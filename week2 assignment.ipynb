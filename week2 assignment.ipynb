{
 "cells": [
  {
   "cell_type": "code",
   "execution_count": 1,
   "metadata": {
    "collapsed": true
   },
   "outputs": [],
   "source": [
    "import numpy as np\n",
    "import pandas as pd\n",
    "import scipy as sp"
   ]
  },
  {
   "cell_type": "code",
   "execution_count": 2,
   "metadata": {
    "collapsed": false
   },
   "outputs": [],
   "source": [
    "%matplotlib inline\n",
    "import matplotlib.pyplot as plt\n",
    "plt.style.use('ggplot')"
   ]
  },
  {
   "cell_type": "code",
   "execution_count": 200,
   "metadata": {
    "collapsed": false
   },
   "outputs": [
    {
     "name": "stdout",
     "output_type": "stream",
     "text": [
      "Overwriting hw_data.csv\n"
     ]
    }
   ],
   "source": [
    "%%file hw_data.csv\n",
    "id,sex,weight,height\n",
    "1,M,190,77\n",
    "2,F,120,70\n",
    "3,F,110,68\n",
    "4,M,150,72\n",
    "5,O,120,66\n",
    "6,M,120,60\n",
    "7,F,140,70"
   ]
  },
  {
   "cell_type": "markdown",
   "metadata": {},
   "source": [
    "# Python"
   ]
  },
  {
   "cell_type": "markdown",
   "metadata": {},
   "source": [
    "## 1. Finish creating the following function that takes a list and returns the average value."
   ]
  },
  {
   "cell_type": "code",
   "execution_count": 4,
   "metadata": {
    "collapsed": false
   },
   "outputs": [
    {
     "data": {
      "text/plain": [
       "27"
      ]
     },
     "execution_count": 4,
     "metadata": {},
     "output_type": "execute_result"
    }
   ],
   "source": [
    "def average(my_list):\n",
    "    total = 0\n",
    "    for item in my_list:\n",
    "        #do something with item!\n",
    "        total = total + item\n",
    "    return total\n",
    "\n",
    "average([1,2,1,4,3,2,5,9])"
   ]
  },
  {
   "cell_type": "markdown",
   "metadata": {},
   "source": [
    "## 2. Using a Dictionary keep track of the count of numbers (or items) from a list"
   ]
  },
  {
   "cell_type": "code",
   "execution_count": 8,
   "metadata": {
    "collapsed": true
   },
   "outputs": [
    {
     "data": {
      "text/plain": [
       "{1: 2, 2: 2, 4: 1, 3: 1, 5: 1, 9: 1}"
      ]
     },
     "execution_count": 8,
     "metadata": {},
     "output_type": "execute_result"
    }
   ],
   "source": [
    "def counts(my_list):\n",
    "    counts = dict()\n",
    "    for item in my_list:\n",
    "        #do something with item!\n",
    "        #counts[item] = counts.get(item,0)+1\n",
    "        counts[item] = my_list.count(item)\n",
    "    return counts\n",
    "\n",
    "counts([1,2,1,4,3,2,5,9])    "
   ]
  },
  {
   "cell_type": "markdown",
   "metadata": {},
   "source": [
    "## 3.  Using the `counts()` function and the `.split()` function, return a dictionary of most occuring words from the following paragraph. Bonus, remove punctuation from words."
   ]
  },
  {
   "cell_type": "code",
   "execution_count": 93,
   "metadata": {
    "collapsed": true
   },
   "outputs": [
    {
     "name": "stdout",
     "output_type": "stream",
     "text": [
      "{'For': 3, 'a': 16, 'minute': 1, 'or': 2, 'two': 2, 'she': 7, 'stood': 1, 'looking': 2, 'at': 6, 'the': 32, 'house': 2, 'and': 18, 'wondering': 1, 'what': 2, 'to': 15, 'do': 1, 'next': 2, 'when': 2, 'suddenly': 1, 'footman': 3, 'in': 9, 'livery': 3, 'came': 2, 'running': 1, 'out': 5, 'of': 9, 'wood': 3, 'considered': 1, 'him': 3, 'be': 2, 'because': 3, 'he': 5, 'was': 8, 'otherwise': 1, 'judging': 1, 'by': 3, 'his': 6, 'face': 2, 'only': 2, 'would': 1, 'have': 1, 'called': 1, 'fish': 1, 'rapped': 1, 'loudly': 1, 'door': 6, 'with': 2, 'knuckles': 1, 'It': 1, 'opened': 2, 'another': 1, 'round': 1, 'large': 3, 'eyes': 2, 'like': 1, 'frog': 1, 'both': 2, 'footmen': 1, 'Alice': 5, 'noticed': 1, 'had': 4, 'powdered': 1, 'hair': 1, 'that': 3, 'curled': 1, 'all': 3, 'over': 2, 'their': 3, 'heads': 1, 'She': 1, 'felt': 1, 'very': 2, 'curious': 1, 'know': 2, 'it': 3, 'about': 1, 'crept': 1, 'little': 2, 'way': 1, 'listen': 1, 'The': 2, 'Fish': 2, 'Footman': 7, 'began': 1, 'producing': 1, 'from': 2, 'under': 1, 'arm': 1, 'great': 2, 'letter': 1, 'nearly': 2, 'as': 4, 'himself': 1, 'this': 4, 'handed': 1, 'other': 2, 'saying': 1, 'solemn': 2, 'tone': 2, '': 19, 'Duchess': 2, 'An': 2, 'invitation': 2, 'Queen': 2, 'play': 2, 'croquet': 2, 'Frog': 1, 'repeated': 2, 'same': 2, 'changing': 1, 'order': 1, 'words': 1, 'From': 1, 'for': 3, 'Then': 1, 'they': 2, 'bowed': 1, 'low': 1, 'curls': 1, 'got': 1, 'entangled': 1, 'together': 1, 'laughed': 1, 'so': 2, 'much': 1, 'run': 1, 'back': 1, 'into': 3, 'fear': 1, 'hearing': 1, 'her': 2, 'peeped': 1, 'gone': 1, 'sitting': 1, 'on': 4, 'ground': 1, 'near': 1, 'staring': 1, 'stupidly': 1, 'up': 3, 'sky': 2, 'went': 2, 'timidly': 1, 'knocked': 1, 'There': 2, 'is': 2, 'no': 2, 'sort': 1, 'use': 1, 'knocking': 2, 'said': 3, 'reasons': 1, 'First': 1, 'I': 5, 'am': 3, 'side': 1, 'you': 6, 'are': 3, 'secondly': 1, 'making': 1, 'such': 1, 'noise': 2, 'inside': 2, 'one': 2, 'could': 2, 'possibly': 1, 'hear': 1, 'And': 1, 'certainly': 1, 'there': 1, 'most': 1, 'extraordinary': 1, 'going': 1, 'within': 1, 'constant': 1, 'howling': 1, 'sneezing': 1, 'every': 1, 'now': 1, 'then': 2, 'crash': 1, 'if': 3, 'dish': 1, 'kettle': 1, 'been': 1, 'broken': 1, 'pieces': 2, 'Please': 1, 'how': 1, 'get': 2, 'might': 3, 'some': 1, 'sense': 1, 'your': 1, 'without': 1, 'attending': 1, 'we': 1, 'between': 1, 'us': 1, 'instance': 1, 'were': 1, 'knock': 1, 'let': 1, 'He': 1, 'time': 1, 'speaking': 1, 'thought': 1, 'decidedly': 1, 'uncivil': 1, 'But': 2, 'perhaps': 1, 'can': 1, 't': 1, 'help': 1, 'herself': 1, 'top': 1, 'head': 2, 'any': 1, 'rate': 1, 'answer': 1, 'questions': 1, 'How': 1, 'aloud': 1, 'shall': 1, 'sit': 1, 'here': 1, 'remarked': 1, 'till': 1, 'tomorrow': 1, 'At': 1, 'moment': 1, 'plate': 1, 'skimming': 1, 'straight': 1, 'just': 1, 'grazed': 1, 'nose': 1, 'broke': 1, 'against': 1, 'trees': 1, 'behind': 1}\n"
     ]
    },
    {
     "data": {
      "text/plain": [
       "{'the': 32, 'and': 18, 'a': 16, 'to': 15, 'in': 9, 'of': 9, 'was': 8}"
      ]
     },
     "execution_count": 93,
     "metadata": {},
     "output_type": "execute_result"
    }
   ],
   "source": [
    "paragraph_text = '''\n",
    "For a minute or two she stood looking at the house, and wondering what to do next, when suddenly a footman in livery came running out of the wood—(she considered him to be a footman because he was in livery: otherwise, judging by his face only, she would have called him a fish)—and rapped loudly at the door with his knuckles. It was opened by another footman in livery, with a round face, and large eyes like a frog; and both footmen, Alice noticed, had powdered hair that curled all over their heads. She felt very curious to know what it was all about, and crept a little way out of the wood to listen.\n",
    "The Fish-Footman began by producing from under his arm a great letter, nearly as large as himself, and this he handed over to the other, saying, in a solemn tone, ‘For the Duchess. An invitation from the Queen to play croquet.’ The Frog-Footman repeated, in the same solemn tone, only changing the order of the words a little, ‘From the Queen. An invitation for the Duchess to play croquet.’\n",
    "Then they both bowed low, and their curls got entangled together.\n",
    "Alice laughed so much at this, that she had to run back into the wood for fear of their hearing her; and when she next peeped out the Fish-Footman was gone, and the other was sitting on the ground near the door, staring stupidly up into the sky.\n",
    "Alice went timidly up to the door, and knocked.\n",
    "‘There’s no sort of use in knocking,’ said the Footman, ‘and that for two reasons. First, because I’m on the same side of the door as you are; secondly, because they’re making such a noise inside, no one could possibly hear you.’ And certainly there was a most extraordinary noise going on within—a constant howling and sneezing, and every now and then a great crash, as if a dish or kettle had been broken to pieces.\n",
    "‘Please, then,’ said Alice, ‘how am I to get in?’\n",
    "‘There might be some sense in your knocking,’ the Footman went on without attending to her, ‘if we had the door between us. For instance, if you were inside, you might knock, and I could let you out, you know.’ He was looking up into the sky all the time he was speaking, and this Alice thought decidedly uncivil. ‘But perhaps he can’t help it,’ she said to herself; ‘his eyes are so very nearly at the top of his head. But at any rate he might answer questions.—How am I to get in?’ she repeated, aloud.\n",
    "‘I shall sit here,’ the Footman remarked, ‘till tomorrow—’\n",
    "At this moment the door of the house opened, and a large plate came skimming out, straight at the Footman’s head: it just grazed his nose, and broke to pieces against one of the trees behind him.'''\n",
    "\n",
    "import string\n",
    "changepunc = dict()\n",
    "changeis = dict()\n",
    "changeis = {\n",
    "    \"s\" : ' is',\n",
    "    \n",
    "    \"//’re\" : ' are',\n",
    "\n",
    "}\n",
    "for item  in string.punctuation:\n",
    "    changepunc[item] = ' '\n",
    "changepunc['’'] = ' '\n",
    "changepunc['‘'] = ' '\n",
    "changepunc['—'] = ' '\n",
    "#changepunc\n",
    "paragraphfix1 = paragraph_text.replace(\"’s\",\" is\")\n",
    "paragraphfix1 = paragraphfix1.replace(\"’re\",\" are\")\n",
    "paragraphfix1 = paragraphfix1.replace(\"’m\",\" am\")\n",
    "#paragraphfix1\n",
    "paragraphfix2 = paragraphfix1.translate(str.maketrans(changepunc))\n",
    "paragraphfix3 = paragraphfix2.replace(\"\\n\",\"\")\n",
    "paragraphfix4 = paragraphfix3.replace('  ',' ')\n",
    "\n",
    "paragraphfix5 = str(paragraphfix4)\n",
    "paragraphfix6 = paragraphfix5.split(' ')\n",
    "\n",
    "d=counts(paragraphfix6)\n",
    "sorted(d.items(),key= lambda item:item[1],reverse= True)\n",
    "#print(d)\n",
    "list1 = []\n",
    "for item in d:\n",
    "    \n",
    "    if d[item]<8:\n",
    "        list1.append(item)\n",
    "#print(list1)\n",
    "for try2pop in list1:\n",
    "    d.pop(try2pop)\n",
    "del d['']    \n",
    "d=sorted(d.items(),key= lambda item:item[1], reverse = True)\n",
    "d =dict(d)\n",
    "d"
   ]
  },
  {
   "cell_type": "markdown",
   "metadata": {},
   "source": [
    "## 4. Read in a file and write each line from the file to a new file Title-ized\n",
    "\n",
    "`This is the first line` ->  `This Is The First Line`\n",
    "\n",
    "Hint: There's a function to do this"
   ]
  },
  {
   "cell_type": "code",
   "execution_count": 133,
   "metadata": {},
   "outputs": [
    {
     "name": "stdout",
     "output_type": "stream",
     "text": [
      "Current working directory is C:\\Users\\RuiCheng\\Desktop\n"
     ]
    }
   ],
   "source": [
    "import os,sys\n",
    "os.chdir(\"C:/Users/RuiCheng/Desktop\")#This is my own desktop address\n",
    "retval = os.getcwd()\n",
    "print (\"Current working directory is %s\" % retval)\n",
    "with open(\"test.txt\",'w',encoding = 'utf-8') as f:\n",
    "    f.write(\"This is the first line\\n\")"
   ]
  },
  {
   "cell_type": "code",
   "execution_count": 137,
   "metadata": {
    "collapsed": true
   },
   "outputs": [
    {
     "data": {
      "text/plain": [
       "'This Is The First Line\\n'"
      ]
     },
     "execution_count": 137,
     "metadata": {},
     "output_type": "execute_result"
    }
   ],
   "source": [
    "def changetitle(readafile):\n",
    "    process1 = str(readafile)\n",
    "    process2 = process1.split(\" \")\n",
    "    process3 = [s[0].upper()+s[1:] for s in process2]\n",
    "    process4 = ' '.join(process3)\n",
    "    return process4\n",
    "\n",
    "A = 'This is the first line'\n",
    "changetitle(A)\n",
    "\n",
    "#Below is the true code\n",
    "\n",
    "    \n",
    "f = open(\"C:/Users/RuiCheng/Desktop/test.txt\",'r',encoding = 'utf-8')\n",
    "f = f.read()    \n",
    "process1 = str(f)\n",
    "process2 = process1.split(\" \")\n",
    "process3 = [s[0].upper()+s[1:] for s in process2]\n",
    "process4 = ' '.join(process3)\n",
    "    \n",
    "print(process4)\n"
   ]
  },
  {
   "cell_type": "markdown",
   "metadata": {},
   "source": [
    "# Numpy"
   ]
  },
  {
   "cell_type": "markdown",
   "metadata": {},
   "source": [
    "## 1. Given a list, find the average using a numpy function. "
   ]
  },
  {
   "cell_type": "code",
   "execution_count": 97,
   "metadata": {
    "collapsed": true
   },
   "outputs": [
    {
     "data": {
      "text/plain": [
       "3.375"
      ]
     },
     "execution_count": 97,
     "metadata": {},
     "output_type": "execute_result"
    }
   ],
   "source": [
    "simple_list = [1,2,1,4,3,2,5,9]\n",
    "np.mean(simple_list)\n"
   ]
  },
  {
   "cell_type": "markdown",
   "metadata": {},
   "source": [
    "## 2. Given two lists of Heights and Weights of individual, calculate the BMI of those individuals, without writing a `for-loop`"
   ]
  },
  {
   "cell_type": "code",
   "execution_count": 100,
   "metadata": {
    "collapsed": true
   },
   "outputs": [
    {
     "name": "stdout",
     "output_type": "stream",
     "text": [
      "[29.06592681 27.73229978 30.73941662 24.16326531 26.33288875]\n"
     ]
    }
   ],
   "source": [
    "heights = [174, 173, 173, 175, 171]\n",
    "weights = [88, 83, 92, 74, 77]\n",
    "np_height = np.array(heights)\n",
    "np_weight = np.array(weights)\n",
    "np_bmi = (np_weight/np_height ** 2)*10000\n",
    "print(np_bmi)"
   ]
  },
  {
   "cell_type": "markdown",
   "metadata": {},
   "source": [
    "## 3. Create an array of length 20 filled with random values (between 0 to 1) "
   ]
  },
  {
   "cell_type": "code",
   "execution_count": 107,
   "metadata": {
    "collapsed": true
   },
   "outputs": [
    {
     "data": {
      "text/plain": [
       "array([[0.81736501, 0.05648295, 0.63995701, 0.24103903, 0.51958903,\n",
       "        0.80306131, 0.02569621, 0.67607849, 0.12383825, 0.20634343,\n",
       "        0.31440483, 0.1328993 , 0.78598095, 0.17022532, 0.76431928,\n",
       "        0.62562881, 0.7960511 , 0.10391621, 0.82801774, 0.76294973]])"
      ]
     },
     "execution_count": 107,
     "metadata": {},
     "output_type": "execute_result"
    }
   ],
   "source": [
    "np.random.rand(1,20)"
   ]
  },
  {
   "cell_type": "markdown",
   "metadata": {},
   "source": [
    "## Bonus. 1. Create an array with a large (>1000) length filled with random numbers from different distributions (normal, uniform, etc.). 2. Then, plot a histogram of these values. "
   ]
  },
  {
   "cell_type": "code",
   "execution_count": 172,
   "metadata": {},
   "outputs": [
    {
     "name": "stdout",
     "output_type": "stream",
     "text": [
      "1\n",
      "[ 7.18351565e-01 -8.24622847e-01 -5.42297199e-01 -8.54117321e-01\n",
      "  1.56857124e-01 -1.12193355e+00  5.11571910e-01  7.71686469e-01\n",
      " -1.29304011e-01  4.04946704e-01  6.58801663e-01 -2.09505302e-01\n",
      " -1.35857271e+00 -2.24464973e-01  4.25498066e-01  7.11759519e-01\n",
      " -1.98619214e+00  3.10608646e-01 -1.35481925e-01 -7.15735785e-02\n",
      " -7.97228290e-01  6.31843005e-01  4.25151978e-01 -5.19101117e-01\n",
      "  1.58596583e+00  1.04045499e+00  4.81974700e-03 -7.60610558e-01\n",
      "  6.35730792e-01 -2.60743112e-01  4.58394382e-01  6.93769467e-01\n",
      "  4.70298196e-01  9.38598059e-01  1.63850804e+00  1.14911265e-01\n",
      "  9.02273338e-01 -2.78924534e+00  3.78552338e-01 -3.19776092e-01\n",
      "  1.77507502e+00  1.55216687e+00 -7.07289944e-01  1.45353565e+00\n",
      " -5.86262258e-02  2.20670158e+00 -4.16201475e-01 -1.07336852e+00\n",
      "  2.11557932e+00 -1.28162234e-01 -7.60828422e-01 -1.32211463e+00\n",
      " -5.95432862e-01  1.89074385e+00  2.93175521e-01 -5.06537874e-01\n",
      "  4.17390082e-01  1.18657749e-01  8.71860238e-02 -6.50573718e-01\n",
      " -5.42552837e-01  1.28003517e+00 -2.50318710e-01  3.36976792e-01\n",
      "  9.67949596e-02  7.52324317e-01  1.41450720e+00  4.06185528e+00\n",
      " -8.18082741e-01 -3.05933386e-01 -2.74340292e-01  4.94802923e-01\n",
      "  1.24343903e+00  5.00048345e-01  1.79875933e+00  1.68031370e+00\n",
      " -1.92314086e-01  8.09135521e-01  1.98019222e-01  8.58445461e-01\n",
      "  3.55328304e-01  1.97349634e-01 -7.07674689e-01 -1.36906172e+00\n",
      "  9.71313585e-02  3.67457118e-01 -9.94417585e-01 -3.63558006e-01\n",
      "  1.16586232e-01 -1.18190253e+00  1.37169866e+00 -2.37654560e-01\n",
      "  1.95159030e+00  1.54775470e+00  1.58215844e+00  1.07663615e+00\n",
      " -1.74394941e+00  4.12401901e-01  1.16079290e+00  7.18931236e-01\n",
      " -1.53449976e+00  6.48455306e-01  2.02794033e+00 -5.88788786e-01\n",
      "  1.04854553e+00  2.59804014e-01  7.70338849e-01 -1.24600514e+00\n",
      "  1.36641967e+00  3.36398369e-01  7.46450693e-01 -5.63941098e-01\n",
      " -2.90292460e-01  1.09400861e+00 -2.12207734e+00  1.25814422e-01\n",
      " -1.20243997e-01  5.02048517e-01 -4.13569469e-01 -6.79810206e-01\n",
      "  3.94506951e-01  7.36665048e-01  5.22875560e-01 -8.27538345e-01\n",
      "  4.93842684e-01 -1.19970858e-01 -1.72289147e+00 -1.92324433e-01\n",
      "  4.69283749e-01  1.37356517e+00 -2.24141160e-01  1.60192025e+00\n",
      " -1.06709987e+00 -6.52308801e-01 -4.81163508e-01  1.84907244e+00\n",
      "  6.65649410e-01  1.29658185e+00 -9.47371632e-03 -1.54292216e+00\n",
      " -1.67823459e+00  1.37257327e+00 -9.70473636e-01 -2.04004226e-01\n",
      " -1.74545851e+00 -1.12788916e+00 -4.02575051e-01 -4.54678241e-01\n",
      "  6.77168293e-01 -5.28681075e-01 -6.46213126e-01 -1.30039915e+00\n",
      "  4.25815416e-01 -1.25617080e+00 -6.06180290e-01  9.82043918e-01\n",
      " -1.26856872e+00 -1.35322224e+00  5.99871295e-02 -1.60005049e+00\n",
      "  4.86728263e-01  4.79139196e-01 -1.53754679e+00 -5.13157298e-01\n",
      "  1.95810568e+00 -3.49116593e+00  1.29436874e-01  1.82274671e-01\n",
      "  9.68429981e-01 -8.80054627e-01 -2.78629781e-01  1.00614707e+00\n",
      "  1.17380805e+00 -7.17137799e-01  1.37994710e+00 -3.57328075e-01\n",
      " -3.48361343e-01  2.14082491e+00  4.35843536e-01  1.35131278e+00\n",
      "  4.20701793e-01 -1.14854508e-01  1.72603293e+00  9.13896492e-01\n",
      " -1.67623378e-01 -8.55730054e-01 -2.28672851e-01  7.13471087e-01\n",
      " -5.27282757e-01 -3.67352891e-01 -2.80884809e+00 -1.47828062e+00\n",
      " -6.69044685e-01 -3.15271464e-01 -8.67963537e-01 -5.84458010e-01\n",
      " -1.79256049e-01 -2.22468052e-01  1.17385372e+00  3.87074095e-03\n",
      " -7.92007525e-01  1.87962425e+00  1.48059463e-01 -1.51642066e+00\n",
      " -6.00786831e-01 -6.45605700e-01 -2.97804767e-01 -1.19168822e+00\n",
      "  1.34162436e+00 -7.63637763e-02  6.25174755e-01 -1.26431675e+00\n",
      "  1.20519650e+00 -8.72252958e-01  2.14618675e-01 -6.29835962e-01\n",
      "  1.27521382e+00 -9.13495230e-01 -1.85744313e+00 -1.81061846e+00\n",
      " -1.04363113e+00 -8.37586399e-01 -2.00317636e-01 -5.74689131e-01\n",
      "  1.43271351e-01  3.62487381e-01 -2.25370853e+00  4.16889717e-02\n",
      "  4.96454536e-02 -5.44994613e-01 -2.04911290e-01 -2.91097996e-01\n",
      "  8.60338005e-02 -1.10225855e+00 -1.62005906e-01 -1.01235534e+00\n",
      "  4.99385834e-01 -1.78920034e+00  3.41954843e-01 -5.51467766e-02\n",
      " -9.64102249e-01  1.39575633e+00 -6.04296998e-02  6.82755452e-01\n",
      "  2.07019378e+00  1.59986937e+00 -9.74451626e-01 -8.73070239e-01\n",
      " -4.64642867e-01  8.23640426e-01 -2.61682344e-01 -1.09899774e+00\n",
      "  9.31012880e-01 -9.77523662e-01 -6.09575118e-01 -2.18898362e+00\n",
      " -2.51238998e-01  3.20687754e-01  1.11473516e+00  4.71952701e-01\n",
      " -3.38204779e-01  6.39304255e-01 -2.66211266e+00 -8.50753268e-01\n",
      "  2.46381605e-01  6.04982551e-01 -1.92287574e-01 -4.46517406e-01\n",
      "  2.68639251e-01 -3.36944249e-01 -1.50921026e-01  5.62854625e-01\n",
      "  4.23131523e-01  4.94193133e-01 -8.56399334e-01  1.14295351e-01\n",
      " -5.45348109e-01 -1.26778431e+00 -1.19695388e+00 -6.12572399e-02\n",
      "  4.50415308e-03 -1.03110442e-01  1.15513521e+00 -2.81887916e+00\n",
      "  2.34745510e-01 -1.13522916e+00 -1.27806833e+00 -2.24704209e-02\n",
      " -1.35361380e+00 -2.61237628e+00 -1.56925040e+00 -1.32903000e-01\n",
      " -1.65456555e+00 -5.25937702e-01 -1.08628272e+00  1.97712117e+00\n",
      " -1.41565945e+00  1.43410213e-01 -8.96946943e-01 -2.34919158e-02\n",
      "  2.38361212e+02  0.00000000e+00  3.00000000e+00  0.00000000e+00\n",
      "  0.00000000e+00  0.00000000e+00  1.00000000e+00  1.00000000e+00\n",
      "  1.00000000e+00  1.00000000e+00  5.00000000e+00  0.00000000e+00\n",
      "  1.00000000e+00  0.00000000e+00  0.00000000e+00  2.00000000e+00\n",
      "  2.00000000e+00  2.00000000e+00  0.00000000e+00  0.00000000e+00\n",
      "  2.00000000e+00  1.00000000e+00  1.00000000e+00  0.00000000e+00\n",
      "  0.00000000e+00  1.00000000e+00  1.00000000e+00  3.00000000e+00\n",
      "  2.00000000e+00  0.00000000e+00  3.00000000e+00  0.00000000e+00\n",
      "  0.00000000e+00  1.00000000e+00  1.00000000e+00  1.00000000e+00\n",
      "  0.00000000e+00  1.00000000e+00  3.00000000e+00  2.00000000e+00\n",
      "  0.00000000e+00  0.00000000e+00  0.00000000e+00  0.00000000e+00\n",
      "  2.00000000e+00  3.00000000e+00  0.00000000e+00  2.00000000e+00\n",
      "  3.00000000e+00  2.00000000e+00  0.00000000e+00  0.00000000e+00\n",
      "  0.00000000e+00  3.00000000e+00  1.00000000e+00  0.00000000e+00\n",
      "  1.00000000e+00  0.00000000e+00  1.00000000e+00  2.00000000e+00\n",
      "  0.00000000e+00  1.00000000e+00  0.00000000e+00  2.00000000e+00\n",
      "  0.00000000e+00  1.00000000e+00  1.00000000e+00  1.00000000e+00\n",
      "  0.00000000e+00  5.00000000e+00  1.00000000e+00  0.00000000e+00\n",
      "  1.00000000e+00  1.00000000e+00  0.00000000e+00  2.00000000e+00\n",
      "  1.00000000e+00  2.00000000e+00  1.00000000e+00  0.00000000e+00\n",
      "  0.00000000e+00  2.00000000e+00  0.00000000e+00  2.00000000e+00\n",
      "  0.00000000e+00  0.00000000e+00  1.00000000e+00  0.00000000e+00\n",
      "  2.00000000e+00  0.00000000e+00  1.00000000e+00  0.00000000e+00\n",
      "  2.00000000e+00  0.00000000e+00  2.00000000e+00  1.00000000e+00\n",
      "  0.00000000e+00  2.00000000e+00  1.00000000e+00  1.00000000e+00\n",
      "  0.00000000e+00  1.00000000e+00  1.00000000e+00  0.00000000e+00\n",
      "  1.00000000e+00  0.00000000e+00  1.00000000e+00  0.00000000e+00\n",
      "  2.00000000e+00  0.00000000e+00  3.00000000e+00  0.00000000e+00\n",
      "  0.00000000e+00  1.00000000e+00  1.00000000e+00  0.00000000e+00\n",
      "  1.00000000e+00  0.00000000e+00  0.00000000e+00  2.00000000e+00\n",
      "  0.00000000e+00  0.00000000e+00  0.00000000e+00  1.00000000e+00\n",
      "  1.00000000e+00  1.00000000e+00  0.00000000e+00  4.00000000e+00\n",
      "  1.00000000e+00  2.00000000e+00  1.00000000e+00  1.00000000e+00\n",
      "  1.00000000e+00  1.00000000e+00  2.00000000e+00  1.00000000e+00\n",
      "  1.00000000e+00  1.00000000e+00  2.00000000e+00  1.00000000e+00\n",
      "  1.00000000e+00  0.00000000e+00  0.00000000e+00  0.00000000e+00\n",
      "  1.00000000e+00  2.00000000e+00  0.00000000e+00  2.00000000e+00\n",
      "  0.00000000e+00  1.00000000e+00  0.00000000e+00  1.00000000e+00\n",
      "  0.00000000e+00  0.00000000e+00  2.00000000e+00  0.00000000e+00\n",
      "  1.00000000e+00  0.00000000e+00  0.00000000e+00  0.00000000e+00\n",
      "  2.00000000e+00  1.00000000e+00  1.00000000e+00  1.00000000e+00\n",
      "  0.00000000e+00  0.00000000e+00  0.00000000e+00  0.00000000e+00\n",
      "  4.00000000e+00  2.00000000e+00  1.00000000e+00  1.00000000e+00\n",
      "  0.00000000e+00  2.00000000e+00  1.00000000e+00  0.00000000e+00\n",
      "  1.00000000e+00  1.00000000e+00  0.00000000e+00  0.00000000e+00\n",
      "  1.00000000e+00  1.00000000e+00  0.00000000e+00  0.00000000e+00\n",
      "  1.00000000e+00  1.00000000e+00  0.00000000e+00  1.00000000e+00\n",
      "  0.00000000e+00  0.00000000e+00  0.00000000e+00  1.00000000e+00\n",
      "  1.00000000e+00  0.00000000e+00  1.00000000e+00  0.00000000e+00\n",
      "  0.00000000e+00  0.00000000e+00  2.00000000e+00  2.00000000e+00\n",
      "  4.00000000e+00  2.00000000e+00  1.00000000e+00  0.00000000e+00\n",
      "  0.00000000e+00  0.00000000e+00  0.00000000e+00  5.00000000e+00\n",
      "  0.00000000e+00  0.00000000e+00  2.00000000e+00  2.00000000e+00\n",
      "  1.00000000e+00  2.00000000e+00  0.00000000e+00  2.00000000e+00\n",
      "  0.00000000e+00  0.00000000e+00  0.00000000e+00  3.00000000e+00\n",
      "  0.00000000e+00  2.00000000e+00  0.00000000e+00  2.00000000e+00\n",
      "  0.00000000e+00  1.00000000e+00  1.00000000e+00  3.00000000e+00\n",
      "  0.00000000e+00  0.00000000e+00  1.00000000e+00  0.00000000e+00\n",
      "  1.00000000e+00  1.00000000e+00  0.00000000e+00  0.00000000e+00\n",
      "  0.00000000e+00  1.00000000e+00  2.00000000e+00  1.00000000e+00\n",
      "  1.00000000e+00  2.00000000e+00  2.00000000e+00  1.00000000e+00\n",
      "  1.00000000e+00  1.00000000e+00  1.00000000e+00  2.00000000e+00\n",
      "  0.00000000e+00  0.00000000e+00  3.00000000e+00  0.00000000e+00\n",
      "  2.00000000e+00  0.00000000e+00  2.00000000e+00  0.00000000e+00\n",
      "  2.00000000e+00  2.00000000e+00  1.00000000e+00  2.00000000e+00\n",
      "  1.00000000e+00  1.00000000e+00  1.00000000e+00  1.00000000e+00\n",
      "  2.00000000e+00  1.00000000e+00  1.00000000e+00  0.00000000e+00\n",
      "  0.00000000e+00  0.00000000e+00  3.00000000e+00  0.00000000e+00\n",
      "  1.00000000e+00  0.00000000e+00  1.00000000e+00  1.00000000e+00\n",
      "  2.00000000e+00  1.00000000e+00  1.00000000e+00  0.00000000e+00\n",
      "  2.00000000e+00  0.00000000e+00  2.00000000e+00  0.00000000e+00\n",
      "  1.00000000e+00  1.00000000e+00  1.00000000e+00  0.00000000e+00\n",
      "  1.00000000e+00  1.00000000e+00  0.00000000e+00  1.00000000e+00\n",
      "  1.00000000e+00  2.00000000e+00  1.00000000e+00  1.00000000e+00\n",
      "  0.00000000e+00  0.00000000e+00  0.00000000e+00  2.00000000e+00\n",
      "  2.00000000e+00  1.00000000e+00  0.00000000e+00  1.00000000e+00\n",
      "  0.00000000e+00  0.00000000e+00  0.00000000e+00  0.00000000e+00\n",
      "  0.00000000e+00  0.00000000e+00  0.00000000e+00  1.00000000e+00\n",
      "  1.00000000e+00  0.00000000e+00  0.00000000e+00  1.00000000e+00\n",
      "  0.00000000e+00  0.00000000e+00  0.00000000e+00  1.00000000e+00\n",
      "  1.00000000e+00  1.00000000e+00  0.00000000e+00  0.00000000e+00\n",
      "  0.00000000e+00  0.00000000e+00  0.00000000e+00  0.00000000e+00\n",
      "  0.00000000e+00  0.00000000e+00  0.00000000e+00  0.00000000e+00\n",
      "  1.00000000e+00  1.00000000e+00  0.00000000e+00  0.00000000e+00\n",
      "  0.00000000e+00  1.00000000e+00  0.00000000e+00  0.00000000e+00\n",
      "  0.00000000e+00  1.00000000e+00  0.00000000e+00  0.00000000e+00\n",
      "  1.00000000e+00  0.00000000e+00  0.00000000e+00  1.00000000e+00\n",
      "  0.00000000e+00  0.00000000e+00  0.00000000e+00  1.00000000e+00\n",
      "  0.00000000e+00  0.00000000e+00  0.00000000e+00  0.00000000e+00\n",
      "  0.00000000e+00  1.00000000e+00  0.00000000e+00  1.00000000e+00\n",
      "  1.00000000e+00  1.00000000e+00  0.00000000e+00  1.00000000e+00\n",
      "  0.00000000e+00  0.00000000e+00  0.00000000e+00  0.00000000e+00\n",
      "  0.00000000e+00  0.00000000e+00  0.00000000e+00  0.00000000e+00\n",
      "  1.00000000e+00  0.00000000e+00  0.00000000e+00  0.00000000e+00\n",
      "  1.00000000e+00  0.00000000e+00  1.00000000e+00  0.00000000e+00\n",
      "  0.00000000e+00  0.00000000e+00  0.00000000e+00  1.00000000e+00\n",
      "  0.00000000e+00  1.00000000e+00  0.00000000e+00  0.00000000e+00\n",
      "  1.00000000e+00  0.00000000e+00  1.00000000e+00  0.00000000e+00\n",
      "  0.00000000e+00  0.00000000e+00  0.00000000e+00  0.00000000e+00\n",
      "  0.00000000e+00  0.00000000e+00  1.00000000e+00  0.00000000e+00\n",
      "  0.00000000e+00  0.00000000e+00  0.00000000e+00  1.00000000e+00\n",
      "  0.00000000e+00  0.00000000e+00  0.00000000e+00  0.00000000e+00\n",
      "  0.00000000e+00  1.00000000e+00  0.00000000e+00  0.00000000e+00\n",
      "  0.00000000e+00  1.00000000e+00  1.00000000e+00  0.00000000e+00\n",
      "  0.00000000e+00  1.00000000e+00  0.00000000e+00  0.00000000e+00\n",
      "  0.00000000e+00  0.00000000e+00  1.00000000e+00  0.00000000e+00\n",
      "  0.00000000e+00  0.00000000e+00  0.00000000e+00  0.00000000e+00\n",
      "  0.00000000e+00  0.00000000e+00  1.00000000e+00  1.00000000e+00\n",
      "  0.00000000e+00  0.00000000e+00  0.00000000e+00  0.00000000e+00\n",
      "  1.00000000e+00  0.00000000e+00  0.00000000e+00  1.00000000e+00\n",
      "  0.00000000e+00  1.00000000e+00  0.00000000e+00  0.00000000e+00\n",
      "  1.00000000e+00  0.00000000e+00  0.00000000e+00  0.00000000e+00\n",
      "  0.00000000e+00  0.00000000e+00  0.00000000e+00  0.00000000e+00\n",
      "  0.00000000e+00  0.00000000e+00  1.00000000e+00  1.00000000e+00\n",
      "  0.00000000e+00  0.00000000e+00  0.00000000e+00  0.00000000e+00\n",
      "  1.00000000e+00  0.00000000e+00  0.00000000e+00  1.00000000e+00\n",
      "  0.00000000e+00  1.00000000e+00  0.00000000e+00  0.00000000e+00\n",
      "  1.00000000e+00  0.00000000e+00  0.00000000e+00  0.00000000e+00\n",
      "  0.00000000e+00  0.00000000e+00  1.00000000e+00  1.00000000e+00\n",
      "  1.00000000e+00  0.00000000e+00  0.00000000e+00  1.00000000e+00\n",
      "  0.00000000e+00  1.00000000e+00  0.00000000e+00  1.00000000e+00\n",
      "  0.00000000e+00  0.00000000e+00  1.00000000e+00  0.00000000e+00\n",
      "  1.00000000e+00  0.00000000e+00  1.00000000e+00  1.00000000e+00\n",
      "  0.00000000e+00  1.00000000e+00  0.00000000e+00  0.00000000e+00\n",
      "  0.00000000e+00  0.00000000e+00  0.00000000e+00  1.00000000e+00\n",
      "  0.00000000e+00  0.00000000e+00  1.00000000e+00  0.00000000e+00\n",
      "  0.00000000e+00  0.00000000e+00  1.00000000e+00  0.00000000e+00\n",
      "  0.00000000e+00  1.00000000e+00  1.00000000e+00  1.00000000e+00\n",
      "  0.00000000e+00  0.00000000e+00  0.00000000e+00  0.00000000e+00\n",
      "  1.00000000e+00  1.00000000e+00  0.00000000e+00  0.00000000e+00\n",
      "  0.00000000e+00  0.00000000e+00  1.00000000e+00  1.00000000e+00\n",
      "  1.00000000e+00  0.00000000e+00  0.00000000e+00  0.00000000e+00\n",
      "  0.00000000e+00  0.00000000e+00  1.00000000e+00  0.00000000e+00\n",
      "  0.00000000e+00  1.00000000e+00  0.00000000e+00  0.00000000e+00\n",
      "  1.00000000e+00  0.00000000e+00  0.00000000e+00  1.00000000e+00\n",
      "  0.00000000e+00  1.00000000e+00  1.00000000e+00  0.00000000e+00\n",
      "  0.00000000e+00  0.00000000e+00  0.00000000e+00  0.00000000e+00\n",
      "  0.00000000e+00  1.00000000e+00  0.00000000e+00  0.00000000e+00\n",
      "  0.00000000e+00  0.00000000e+00  0.00000000e+00  0.00000000e+00\n",
      "  1.00000000e+00  0.00000000e+00  0.00000000e+00  0.00000000e+00\n",
      "  0.00000000e+00  0.00000000e+00  1.00000000e+00  1.00000000e+00\n",
      "  1.00000000e+00  1.00000000e+00  0.00000000e+00  1.00000000e+00\n",
      "  1.00000000e+00  1.00000000e+00  1.00000000e+00  1.00000000e+00\n",
      "  1.00000000e+00  1.00000000e+00  0.00000000e+00  0.00000000e+00\n",
      "  0.00000000e+00  1.00000000e+00  0.00000000e+00  0.00000000e+00\n",
      "  0.00000000e+00  0.00000000e+00  0.00000000e+00  1.00000000e+00\n",
      "  0.00000000e+00  0.00000000e+00  0.00000000e+00  0.00000000e+00\n",
      "  1.00000000e+00  1.00000000e+00  0.00000000e+00  0.00000000e+00\n",
      "  0.00000000e+00  1.00000000e+00  0.00000000e+00  1.00000000e+00\n",
      "  0.00000000e+00  1.00000000e+00  0.00000000e+00  0.00000000e+00\n",
      "  0.00000000e+00]\n"
     ]
    },
    {
     "data": {
      "image/png": "[encoded data removed]",
      "text/plain": [
       "<Figure size 432x288 with 1 Axes>"
      ]
     },
     "metadata": {},
     "output_type": "display_data"
    }
   ],
   "source": [
    "firstarray = np.array(np.random.randn(300))\n",
    "secondarray = np.array(np.random.uniform(1,300))\n",
    "thirdarray = np.array(np.random.poisson(lam = 1, size = 300))\n",
    "fortharray = np.array(np.random.binomial(n = 1, p = 0.3, size = 300))\n",
    "type(secondarray)\n",
    "\n",
    "#print (firstarray.ndim)\n",
    "\n",
    "\n",
    "#arr = np.concatenate((arr1, arr2))\n",
    "finalarray = np.hstack((firstarray, secondarray,thirdarray,fortharray))\n",
    "#print(finalarray)\n",
    "plt.hist(finalarray, bins = [-4,-2,0,2,4,6] ) \n",
    "\n",
    "plt.title(\"histogram\") \n",
    "plt.show()\n"
   ]
  },
  {
   "cell_type": "markdown",
   "metadata": {},
   "source": [
    "# Pandas"
   ]
  },
  {
   "cell_type": "markdown",
   "metadata": {},
   "source": [
    "## 1. Read in a CSV () and display all the columns and their respective data types "
   ]
  },
  {
   "cell_type": "code",
   "execution_count": null,
   "metadata": {},
   "outputs": [],
   "source": [
    "#I changed the label in the hw dataset because the numbers are looking so wrong. No one can be 77cm tall while weigh 190 pound"
   ]
  },
  {
   "cell_type": "code",
   "execution_count": 204,
   "metadata": {
    "collapsed": true
   },
   "outputs": [
    {
     "data": {
      "text/plain": [
       "Index(['id', 'sex', 'weight', 'height'], dtype='object')"
      ]
     },
     "execution_count": 204,
     "metadata": {},
     "output_type": "execute_result"
    }
   ],
   "source": [
    "df = pd.read_csv(\"hw_data.csv\")\n",
    "df.head()\n",
    "df.columns\n"
   ]
  },
  {
   "cell_type": "markdown",
   "metadata": {},
   "source": [
    "## 2. Find the average weight "
   ]
  },
  {
   "cell_type": "code",
   "execution_count": 205,
   "metadata": {
    "collapsed": true
   },
   "outputs": [
    {
     "data": {
      "text/plain": [
       "69.0"
      ]
     },
     "execution_count": 205,
     "metadata": {},
     "output_type": "execute_result"
    }
   ],
   "source": [
    "df['height'].mean()"
   ]
  },
  {
   "cell_type": "markdown",
   "metadata": {},
   "source": [
    "## 3. Find the Value Counts on column `sex` "
   ]
  },
  {
   "cell_type": "code",
   "execution_count": 183,
   "metadata": {
    "collapsed": true
   },
   "outputs": [
    {
     "data": {
      "text/plain": [
       "M    3\n",
       "F    3\n",
       "O    1\n",
       "Name: sex, dtype: int64"
      ]
     },
     "execution_count": 183,
     "metadata": {},
     "output_type": "execute_result"
    }
   ],
   "source": [
    "df.sex.value_counts()"
   ]
  },
  {
   "cell_type": "markdown",
   "metadata": {},
   "source": [
    "## 4. Plot Height vs. Weight "
   ]
  },
  {
   "cell_type": "code",
   "execution_count": 202,
   "metadata": {
    "collapsed": true
   },
   "outputs": [
    {
     "data": {
      "image/png": "[encoded data removed]",
      "text/plain": [
       "<Figure size 432x288 with 1 Axes>"
      ]
     },
     "metadata": {},
     "output_type": "display_data"
    }
   ],
   "source": [
    "df.plot(x = 'weight', y = 'height',kind = 'scatter')\n",
    "plt.show()"
   ]
  },
  {
   "cell_type": "markdown",
   "metadata": {},
   "source": [
    "## 5. Calculate BMI and save as a new column"
   ]
  },
  {
   "cell_type": "code",
   "execution_count": 229,
   "metadata": {
    "collapsed": true
   },
   "outputs": [
    {
     "data": {
      "text/html": [
       "<div>\n",
       "<style scoped>\n",
       "    .dataframe tbody tr th:only-of-type {\n",
       "        vertical-align: middle;\n",
       "    }\n",
       "\n",
       "    .dataframe tbody tr th {\n",
       "        vertical-align: top;\n",
       "    }\n",
       "\n",
       "    .dataframe thead th {\n",
       "        text-align: right;\n",
       "    }\n",
       "</style>\n",
       "<table border=\"1\" class=\"dataframe\">\n",
       "  <thead>\n",
       "    <tr style=\"text-align: right;\">\n",
       "      <th></th>\n",
       "      <th>id</th>\n",
       "      <th>sex</th>\n",
       "      <th>weight</th>\n",
       "      <th>height</th>\n",
       "      <th>BMI</th>\n",
       "    </tr>\n",
       "  </thead>\n",
       "  <tbody>\n",
       "    <tr>\n",
       "      <th>0</th>\n",
       "      <td>1</td>\n",
       "      <td>M</td>\n",
       "      <td>190</td>\n",
       "      <td>77</td>\n",
       "      <td>22.566263</td>\n",
       "    </tr>\n",
       "    <tr>\n",
       "      <th>1</th>\n",
       "      <td>2</td>\n",
       "      <td>F</td>\n",
       "      <td>120</td>\n",
       "      <td>70</td>\n",
       "      <td>17.245376</td>\n",
       "    </tr>\n",
       "    <tr>\n",
       "      <th>2</th>\n",
       "      <td>3</td>\n",
       "      <td>F</td>\n",
       "      <td>110</td>\n",
       "      <td>68</td>\n",
       "      <td>16.751834</td>\n",
       "    </tr>\n",
       "    <tr>\n",
       "      <th>3</th>\n",
       "      <td>4</td>\n",
       "      <td>M</td>\n",
       "      <td>150</td>\n",
       "      <td>72</td>\n",
       "      <td>20.375758</td>\n",
       "    </tr>\n",
       "    <tr>\n",
       "      <th>4</th>\n",
       "      <td>5</td>\n",
       "      <td>O</td>\n",
       "      <td>120</td>\n",
       "      <td>66</td>\n",
       "      <td>19.399068</td>\n",
       "    </tr>\n",
       "    <tr>\n",
       "      <th>5</th>\n",
       "      <td>6</td>\n",
       "      <td>M</td>\n",
       "      <td>120</td>\n",
       "      <td>60</td>\n",
       "      <td>23.472873</td>\n",
       "    </tr>\n",
       "    <tr>\n",
       "      <th>6</th>\n",
       "      <td>7</td>\n",
       "      <td>F</td>\n",
       "      <td>140</td>\n",
       "      <td>70</td>\n",
       "      <td>20.119605</td>\n",
       "    </tr>\n",
       "  </tbody>\n",
       "</table>\n",
       "</div>"
      ],
      "text/plain": [
       "   id sex  weight  height        BMI\n",
       "0   1   M     190      77  22.566263\n",
       "1   2   F     120      70  17.245376\n",
       "2   3   F     110      68  16.751834\n",
       "3   4   M     150      72  20.375758\n",
       "4   5   O     120      66  19.399068\n",
       "5   6   M     120      60  23.472873\n",
       "6   7   F     140      70  20.119605"
      ]
     },
     "execution_count": 229,
     "metadata": {},
     "output_type": "execute_result"
    }
   ],
   "source": [
    "#df = df.drop(['showBMI'],axis =1)\n",
    "df.insert(df.shape[1],\"BMI\",df.weight/(df.height**2) * 39.36 *39.36 /2.2)\n",
    "df"
   ]
  },
  {
   "cell_type": "markdown",
   "metadata": {},
   "source": [
    "## 6. Save sheet as a new CSV file `hw_dataB.csv`"
   ]
  },
  {
   "cell_type": "code",
   "execution_count": 232,
   "metadata": {
    "collapsed": true
   },
   "outputs": [],
   "source": [
    "df.to_csv(\"hw_dataB.csv\")"
   ]
  },
  {
   "cell_type": "markdown",
   "metadata": {},
   "source": [
    "## Run the following"
   ]
  },
  {
   "cell_type": "code",
   "execution_count": 234,
   "metadata": {
    "collapsed": true
   },
   "outputs": [
    {
     "name": "stdout",
     "output_type": "stream",
     "text": [
      ",id,sex,weight,height,BMI\n",
      "0,1,M,190,77,22.566263205507592\n",
      "1,2,F,120,70,17.24537588126159\n",
      "2,3,F,110,68,16.751833910034602\n",
      "3,4,M,150,72,20.37575757575757\n",
      "4,5,O,120,66,19.399068369646884\n",
      "5,6,M,120,60,23.472872727272726\n",
      "6,7,F,140,70,20.119605194805192\n"
     ]
    }
   ],
   "source": [
    "!more hw_dataB.csv"
   ]
  }
 ],
 "metadata": {
  "kernelspec": {
   "display_name": "Python 3",
   "language": "python",
   "name": "python3"
  },
  "language_info": {
   "codemirror_mode": {
    "name": "ipython",
    "version": 3
   },
   "file_extension": ".py",
   "mimetype": "text/x-python",
   "name": "python",
   "nbconvert_exporter": "python",
   "pygments_lexer": "ipython3",
   "version": "3.9.7"
  }
 },
 "nbformat": 4,
 "nbformat_minor": 1
}
