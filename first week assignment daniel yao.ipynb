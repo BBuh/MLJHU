# -*- coding: utf-8 -*-
"""
Spyder 编辑器

这是一个临时脚本文件。
"""

import numpy
import scipy
import matplotlib
import pandas
import statsmodels
import seaborn
import sklearn

print("numpy:", numpy.__version__)
print("scipy:", scipy.__version__)
print("matplotlib:", matplotlib.__version__)
print("statsmodels:", statsmodels.__version__)
print("pandas:", pandas.__version__)
print("seaborn:", seaborn.__version__)
print("sklearn:", sklearn.__version__)

from urllib.request import urlopen
from urllib.request import urlretrieve
from bs4 import BeautifulSoup
import ssl
import datetime
import re
import random
ssl._create_default_https_context = ssl._create_unverified_context
html = urlopen('http://www.pythonscraping.com')

bs = BeautifulSoup(html, 'html.parser')
imageLocation = bs.find('a', {'id': 'logo'}).find('img')['src']
urlretrieve (imageLocation, 'logo.jpg')